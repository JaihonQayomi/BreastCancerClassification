{
 "cells": [
  {
   "cell_type": "markdown",
   "id": "a725e4e4",
   "metadata": {},
   "source": [
    "MyProject"
   ]
  },
  {
   "cell_type": "code",
   "execution_count": 1,
   "id": "b28a53fd",
   "metadata": {},
   "outputs": [],
   "source": [
    "from sklearn.datasets import load_breast_cancer"
   ]
  },
  {
   "cell_type": "code",
   "execution_count": 2,
   "id": "4b946000",
   "metadata": {},
   "outputs": [],
   "source": [
    "demo = load_breast_cancer()\n",
    "x = demo.data\n",
    "y = demo.target\n",
    "# print(x)\n",
    "# print(y)"
   ]
  },
  {
   "cell_type": "code",
   "execution_count": 3,
   "id": "48d57736",
   "metadata": {},
   "outputs": [
    {
     "name": "stdout",
     "output_type": "stream",
     "text": [
      "[[ 1.09706398 -2.07333501  1.26993369 ...  2.29607613  2.75062224\n",
      "   1.93701461]\n",
      " [ 1.82982061 -0.35363241  1.68595471 ...  1.0870843  -0.24388967\n",
      "   0.28118999]\n",
      " [ 1.57988811  0.45618695  1.56650313 ...  1.95500035  1.152255\n",
      "   0.20139121]\n",
      " ...\n",
      " [ 0.70228425  2.0455738   0.67267578 ...  0.41406869 -1.10454895\n",
      "  -0.31840916]\n",
      " [ 1.83834103  2.33645719  1.98252415 ...  2.28998549  1.91908301\n",
      "   2.21963528]\n",
      " [-1.80840125  1.22179204 -1.81438851 ... -1.74506282 -0.04813821\n",
      "  -0.75120669]]\n"
     ]
    }
   ],
   "source": [
    "from sklearn.preprocessing import StandardScaler\n",
    "sc = StandardScaler()\n",
    "demo.data = sc.fit_transform(demo.data)\n",
    "print(demo.data)"
   ]
  },
  {
   "cell_type": "code",
   "execution_count": 4,
   "id": "6b3153f2",
   "metadata": {},
   "outputs": [],
   "source": [
    "from sklearn.model_selection import train_test_split\n",
    "x_train,x_test,y_train,y_test = train_test_split(demo.data, demo.target, test_size=0.2, random_state=20)\n"
   ]
  },
  {
   "cell_type": "code",
   "execution_count": 5,
   "id": "6c637f65",
   "metadata": {},
   "outputs": [
    {
     "name": "stderr",
     "output_type": "stream",
     "text": [
      "c:\\Users\\Jaihon\\AppData\\Local\\Programs\\Python\\Python313\\Lib\\site-packages\\sklearn\\neural_network\\_multilayer_perceptron.py:691: ConvergenceWarning: Stochastic Optimizer: Maximum iterations (90) reached and the optimization hasn't converged yet.\n",
      "  warnings.warn(\n"
     ]
    }
   ],
   "source": [
    "from sklearn.neural_network import MLPClassifier\n",
    "from sklearn.metrics import accuracy_score,precision_score, recall_score, confusion_matrix\n",
    "model = MLPClassifier(hidden_layer_sizes=150, max_iter=90)\n",
    "model.fit(x_train, y_train)\n",
    "a = model.predict(x_train)\n",
    "b = model.predict(x_test)\n"
   ]
  },
  {
   "cell_type": "code",
   "execution_count": 6,
   "id": "055f9e03",
   "metadata": {},
   "outputs": [],
   "source": [
    "def output():\n",
    "          ac = accuracy_score(y_train, a)\n",
    "          acc = accuracy_score(y_test, b)\n",
    "          print('ac_train_ann: ', ac)\n",
    "          print('acc_test_ann: ', acc)\n",
    "          p = precision_score(y_train , a)\n",
    "          p1 = precision_score(y_test, b)\n",
    "          print('p_train_ann: ', p)\n",
    "          print('p_test_ann: ', p1)\n",
    "          re = recall_score(y_train, a)\n",
    "          re1 = recall_score(y_test, b)\n",
    "          print('recal_train_ann: ', re)\n",
    "          print('recal_test_ann: ', re1)\n"
   ]
  },
  {
   "cell_type": "code",
   "execution_count": 7,
   "id": "efbdc7c0",
   "metadata": {},
   "outputs": [
    {
     "name": "stdout",
     "output_type": "stream",
     "text": [
      "ac_train_ann:  0.989010989010989\n",
      "acc_test_ann:  0.9912280701754386\n",
      "p_train_ann:  0.9863945578231292\n",
      "p_test_ann:  0.9850746268656716\n",
      "recal_train_ann:  0.9965635738831615\n",
      "recal_test_ann:  1.0\n"
     ]
    }
   ],
   "source": [
    "output()"
   ]
  }
 ],
 "metadata": {
  "kernelspec": {
   "display_name": "Python 3",
   "language": "python",
   "name": "python3"
  },
  "language_info": {
   "codemirror_mode": {
    "name": "ipython",
    "version": 3
   },
   "file_extension": ".py",
   "mimetype": "text/x-python",
   "name": "python",
   "nbconvert_exporter": "python",
   "pygments_lexer": "ipython3",
   "version": "3.13.2"
  }
 },
 "nbformat": 4,
 "nbformat_minor": 5
}
